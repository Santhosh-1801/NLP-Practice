{
 "cells": [
  {
   "cell_type": "code",
   "execution_count": 1,
   "id": "fa6f3a1f",
   "metadata": {},
   "outputs": [],
   "source": [
    "import spacy \n",
    "nlp=spacy.load(\"en_core_web_lg\")"
   ]
  },
  {
   "cell_type": "code",
   "execution_count": 2,
   "id": "0c09d9b7",
   "metadata": {},
   "outputs": [],
   "source": [
    "doc=nlp(\"dog cat banana santhosh\")"
   ]
  },
  {
   "cell_type": "code",
   "execution_count": 4,
   "id": "0c0eb9c8",
   "metadata": {},
   "outputs": [
    {
     "name": "stdout",
     "output_type": "stream",
     "text": [
      "dog Vector: True OOV: False\n",
      "cat Vector: True OOV: False\n",
      "banana Vector: True OOV: False\n",
      "santhosh Vector: False OOV: True\n"
     ]
    }
   ],
   "source": [
    "for token in doc:\n",
    "    print(token.text, \"Vector:\",token.has_vector,\"OOV:\",token.is_oov)"
   ]
  },
  {
   "cell_type": "code",
   "execution_count": 8,
   "id": "e34e56cc",
   "metadata": {},
   "outputs": [
    {
     "data": {
      "text/plain": [
       "(300,)"
      ]
     },
     "execution_count": 8,
     "metadata": {},
     "output_type": "execute_result"
    }
   ],
   "source": [
    "doc[0].vector.shape"
   ]
  },
  {
   "cell_type": "code",
   "execution_count": 9,
   "id": "607af724",
   "metadata": {},
   "outputs": [
    {
     "data": {
      "text/plain": [
       "(300,)"
      ]
     },
     "execution_count": 9,
     "metadata": {},
     "output_type": "execute_result"
    }
   ],
   "source": [
    "doc[1].vector.shape"
   ]
  },
  {
   "cell_type": "code",
   "execution_count": 10,
   "id": "67efec19",
   "metadata": {},
   "outputs": [
    {
     "data": {
      "text/plain": [
       "(300,)"
      ]
     },
     "execution_count": 10,
     "metadata": {},
     "output_type": "execute_result"
    }
   ],
   "source": [
    "doc[2].vector.shape"
   ]
  },
  {
   "cell_type": "code",
   "execution_count": 11,
   "id": "b3d92493",
   "metadata": {},
   "outputs": [
    {
     "data": {
      "text/plain": [
       "(300,)"
      ]
     },
     "execution_count": 11,
     "metadata": {},
     "output_type": "execute_result"
    }
   ],
   "source": [
    "doc[3].vector.shape"
   ]
  },
  {
   "cell_type": "code",
   "execution_count": 17,
   "id": "233206f2",
   "metadata": {},
   "outputs": [
    {
     "data": {
      "text/plain": [
       "(300,)"
      ]
     },
     "execution_count": 17,
     "metadata": {},
     "output_type": "execute_result"
    }
   ],
   "source": [
    "base_token=nlp(\"mobile\")\n",
    "base_token.vector.shape"
   ]
  },
  {
   "cell_type": "code",
   "execution_count": 18,
   "id": "2bd1f484",
   "metadata": {},
   "outputs": [
    {
     "name": "stdout",
     "output_type": "stream",
     "text": [
      "bread <->mobile: 0.0636156785695049\n",
      "sandwich <->mobile: 0.09524578935212104\n",
      "burger <->mobile: 0.05544533326662314\n",
      "car <->mobile: 0.24895239050173204\n",
      "tiger <->mobile: -0.029622055759293536\n",
      "human <->mobile: 0.13756422799216605\n",
      "wheat <->mobile: 0.10954195218034099\n"
     ]
    }
   ],
   "source": [
    "doc=nlp(\"bread sandwich burger car tiger human wheat\")\n",
    "\n",
    "for token in doc:\n",
    "    print(f\"{token.text} <->{base_token.text}:\",token.similarity(base_token))"
   ]
  },
  {
   "cell_type": "code",
   "execution_count": 19,
   "id": "e6086e9b",
   "metadata": {},
   "outputs": [
    {
     "name": "stdout",
     "output_type": "stream",
     "text": [
      "iphone <->mobile: 0.5803360776696529\n",
      "samsung <->mobile: 0.4726975862500887\n",
      "apple <->mobile: 0.25301906704258514\n",
      "redmi <->mobile: 0.262912907373805\n",
      "human <->mobile: 0.13756422799216605\n",
      "wheat <->mobile: 0.10954195218034099\n"
     ]
    }
   ],
   "source": [
    "doc=nlp(\"iphone samsung apple redmi human wheat\")\n",
    "\n",
    "for token in doc:\n",
    "    print(f\"{token.text} <->{base_token.text}:\",token.similarity(base_token))"
   ]
  },
  {
   "cell_type": "code",
   "execution_count": 20,
   "id": "493f6b4e",
   "metadata": {},
   "outputs": [],
   "source": [
    "king=nlp.vocab[\"king\"].vector\n",
    "queen=nlp.vocab[\"queen\"].vector\n",
    "woman=nlp.vocab[\"woman\"].vector\n",
    "man=nlp.vocab[\"man\"].vector"
   ]
  },
  {
   "cell_type": "code",
   "execution_count": 21,
   "id": "d71ef36a",
   "metadata": {},
   "outputs": [],
   "source": [
    "result=king-man+woman"
   ]
  },
  {
   "cell_type": "code",
   "execution_count": null,
   "id": "49d5b752",
   "metadata": {},
   "outputs": [],
   "source": [
    "result"
   ]
  }
 ],
 "metadata": {
  "kernelspec": {
   "display_name": "Python 3 (ipykernel)",
   "language": "python",
   "name": "python3"
  },
  "language_info": {
   "codemirror_mode": {
    "name": "ipython",
    "version": 3
   },
   "file_extension": ".py",
   "mimetype": "text/x-python",
   "name": "python",
   "nbconvert_exporter": "python",
   "pygments_lexer": "ipython3",
   "version": "3.10.0"
  }
 },
 "nbformat": 4,
 "nbformat_minor": 5
}
