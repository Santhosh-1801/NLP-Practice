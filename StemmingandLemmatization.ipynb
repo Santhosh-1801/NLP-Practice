{
 "cells": [
  {
   "cell_type": "code",
   "execution_count": 1,
   "id": "b07bd8bb",
   "metadata": {},
   "outputs": [],
   "source": [
    "import nltk \n",
    "import spacy"
   ]
  },
  {
   "cell_type": "code",
   "execution_count": 2,
   "id": "5b30c941",
   "metadata": {},
   "outputs": [],
   "source": [
    "from nltk.stem import PorterStemmer \n",
    "stemmer=PorterStemmer()"
   ]
  },
  {
   "cell_type": "code",
   "execution_count": 3,
   "id": "2491ad7f",
   "metadata": {},
   "outputs": [],
   "source": [
    "words=[\"eating\",\"eats\",\"eat\",\"ate\",\"adjustable\",\"rafting\",\"ability\",\"meeting\"]"
   ]
  },
  {
   "cell_type": "code",
   "execution_count": 4,
   "id": "a9f40c65",
   "metadata": {},
   "outputs": [
    {
     "data": {
      "text/plain": [
       "['eating', 'eats', 'eat', 'ate', 'adjustable', 'rafting', 'ability', 'meeting']"
      ]
     },
     "execution_count": 4,
     "metadata": {},
     "output_type": "execute_result"
    }
   ],
   "source": [
    "words"
   ]
  },
  {
   "cell_type": "code",
   "execution_count": 8,
   "id": "9871ff1d",
   "metadata": {},
   "outputs": [
    {
     "name": "stdout",
     "output_type": "stream",
     "text": [
      "eating  ||  eat\n",
      "eats  ||  eat\n",
      "eat  ||  eat\n",
      "ate  ||  ate\n",
      "adjustable  ||  adjust\n",
      "rafting  ||  raft\n",
      "ability  ||  abil\n",
      "meeting  ||  meet\n"
     ]
    }
   ],
   "source": [
    "for word in words:\n",
    "    print(word,\" || \",stemmer.stem(word))"
   ]
  },
  {
   "cell_type": "code",
   "execution_count": 9,
   "id": "af7d34e0",
   "metadata": {},
   "outputs": [],
   "source": [
    "nlp=spacy.load(\"en_core_web_sm\")\n",
    "doc=nlp(\"eating eats eat ate adjustable rafting slept met done\")"
   ]
  },
  {
   "cell_type": "code",
   "execution_count": 10,
   "id": "ae86c3c4",
   "metadata": {},
   "outputs": [
    {
     "name": "stdout",
     "output_type": "stream",
     "text": [
      "eating  |  eat\n",
      "eats  |  eat\n",
      "eat  |  eat\n",
      "ate  |  eat\n",
      "adjustable  |  adjustable\n",
      "rafting  |  rafting\n",
      "slept  |  slept\n",
      "met  |  meet\n",
      "done  |  do\n"
     ]
    }
   ],
   "source": [
    "for token in doc:\n",
    "    print(token,\" | \",token.lemma_)"
   ]
  },
  {
   "cell_type": "code",
   "execution_count": 11,
   "id": "7e4270eb",
   "metadata": {},
   "outputs": [
    {
     "data": {
      "text/plain": [
       "['tok2vec', 'tagger', 'parser', 'attribute_ruler', 'lemmatizer', 'ner']"
      ]
     },
     "execution_count": 11,
     "metadata": {},
     "output_type": "execute_result"
    }
   ],
   "source": [
    "nlp.pipe_names"
   ]
  },
  {
   "cell_type": "code",
   "execution_count": 12,
   "id": "be3af037",
   "metadata": {},
   "outputs": [],
   "source": [
    "ar=nlp.get_pipe('attribute_ruler')"
   ]
  },
  {
   "cell_type": "code",
   "execution_count": 19,
   "id": "ea2ea7f0",
   "metadata": {},
   "outputs": [],
   "source": [
    "ar.add([[{\"TEXT\":\"Bro\"}],[{\"TEXT\":\"brah\"}]],{\"LEMMA\":\"Brother\"})"
   ]
  },
  {
   "cell_type": "code",
   "execution_count": 20,
   "id": "53c45532",
   "metadata": {},
   "outputs": [],
   "source": [
    "doc=nlp(\"Bro! How is your day going? Wanna have nice chocolate brah\")"
   ]
  },
  {
   "cell_type": "code",
   "execution_count": 21,
   "id": "36eed392",
   "metadata": {},
   "outputs": [
    {
     "data": {
      "text/plain": [
       "Bro! How is your day going? Wanna have nice chocolate brah"
      ]
     },
     "execution_count": 21,
     "metadata": {},
     "output_type": "execute_result"
    }
   ],
   "source": [
    "doc"
   ]
  },
  {
   "cell_type": "code",
   "execution_count": 22,
   "id": "63150e3c",
   "metadata": {},
   "outputs": [
    {
     "name": "stdout",
     "output_type": "stream",
     "text": [
      "Bro | Brother\n",
      "! | !\n",
      "How | how\n",
      "is | be\n",
      "your | your\n",
      "day | day\n",
      "going | go\n",
      "? | ?\n",
      "Wanna | Wanna\n",
      "have | have\n",
      "nice | nice\n",
      "chocolate | chocolate\n",
      "brah | Brother\n"
     ]
    }
   ],
   "source": [
    "for token in doc:\n",
    "    print(token.text,\"|\",token.lemma_)"
   ]
  },
  {
   "cell_type": "code",
   "execution_count": null,
   "id": "28248356",
   "metadata": {},
   "outputs": [],
   "source": []
  },
  {
   "cell_type": "code",
   "execution_count": null,
   "id": "b46513a6",
   "metadata": {},
   "outputs": [],
   "source": []
  }
 ],
 "metadata": {
  "kernelspec": {
   "display_name": "Python 3 (ipykernel)",
   "language": "python",
   "name": "python3"
  },
  "language_info": {
   "codemirror_mode": {
    "name": "ipython",
    "version": 3
   },
   "file_extension": ".py",
   "mimetype": "text/x-python",
   "name": "python",
   "nbconvert_exporter": "python",
   "pygments_lexer": "ipython3",
   "version": "3.10.0"
  }
 },
 "nbformat": 4,
 "nbformat_minor": 5
}
